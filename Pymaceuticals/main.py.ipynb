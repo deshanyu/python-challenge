{
 "cells": [
  {
   "cell_type": "markdown",
   "metadata": {},
   "source": [
    "## Pymaceuticals, Inc.\n",
    "\n",
    "### Analysis results\n",
    "- Of the four drugs evaluated, Capomulin demonstrated tumor regression while the placebo and other drugs exhibited tumor growth relative to the baseline in mouse models.\n",
    "- Capomulin demonstrated most reduced metastatic spread during the treatment in comparison to placebo and other drugs.\n",
    "- Capomulin demonstrated the highest survival rates in comparison with the placebo and other drugs.\n",
    "- Capomulin demonstrated nearly 20% tumor shrinkage while the placebo and other drugs exhibited 46-57% tumor growth following 45 days of treatment. "
   ]
  },
  {
   "cell_type": "code",
   "execution_count": 116,
   "metadata": {
    "collapsed": true
   },
   "outputs": [],
   "source": [
    "#Dependencies\n",
    "import pandas as pd\n",
    "import numpy as np\n",
    "import matplotlib.pyplot as plt\n",
    "import seaborn as sns\n",
    "from scipy.stats import sem"
   ]
  },
  {
   "cell_type": "code",
   "execution_count": 117,
   "metadata": {},
   "outputs": [
    {
     "name": "stdout",
     "output_type": "stream",
     "text": [
      "  Mouse ID      Drug\n",
      "0     f234  Stelasyn\n",
      "1     x402  Stelasyn\n",
      "2     a492  Stelasyn\n",
      "3     w540  Stelasyn\n",
      "4     v764  Stelasyn\n",
      "  Mouse ID  Timepoint  Tumor Volume (mm3)  Metastatic Sites\n",
      "0     b128          0                45.0                 0\n",
      "1     f932          0                45.0                 0\n",
      "2     g107          0                45.0                 0\n",
      "3     a457          0                45.0                 0\n",
      "4     c819          0                45.0                 0\n"
     ]
    }
   ],
   "source": [
    "#Read the datafiles to pandas dataframes\n",
    "datafile1=\"raw_data/mouse_drug_data.csv\"\n",
    "datafile2=\"raw_data/clinicaltrial_data.csv\"\n",
    "df1=pd.read_csv(datafile1)\n",
    "df2=pd.read_csv(datafile2)\n",
    "print(df1.head())\n",
    "print(df2.head())\n"
   ]
  },
  {
   "cell_type": "code",
   "execution_count": 118,
   "metadata": {},
   "outputs": [
    {
     "data": {
      "text/html": [
       "<div>\n",
       "<style>\n",
       "    .dataframe thead tr:only-child th {\n",
       "        text-align: right;\n",
       "    }\n",
       "\n",
       "    .dataframe thead th {\n",
       "        text-align: left;\n",
       "    }\n",
       "\n",
       "    .dataframe tbody tr th {\n",
       "        vertical-align: top;\n",
       "    }\n",
       "</style>\n",
       "<table border=\"1\" class=\"dataframe\">\n",
       "  <thead>\n",
       "    <tr style=\"text-align: right;\">\n",
       "      <th></th>\n",
       "      <th>Mouse ID</th>\n",
       "      <th>Timepoint</th>\n",
       "      <th>Tumor Volume (mm3)</th>\n",
       "      <th>Metastatic Sites</th>\n",
       "    </tr>\n",
       "    <tr>\n",
       "      <th>Drug</th>\n",
       "      <th></th>\n",
       "      <th></th>\n",
       "      <th></th>\n",
       "      <th></th>\n",
       "    </tr>\n",
       "  </thead>\n",
       "  <tbody>\n",
       "    <tr>\n",
       "      <th>Capomulin</th>\n",
       "      <td>b128</td>\n",
       "      <td>0</td>\n",
       "      <td>45.000000</td>\n",
       "      <td>0</td>\n",
       "    </tr>\n",
       "    <tr>\n",
       "      <th>Capomulin</th>\n",
       "      <td>b128</td>\n",
       "      <td>5</td>\n",
       "      <td>45.651331</td>\n",
       "      <td>0</td>\n",
       "    </tr>\n",
       "    <tr>\n",
       "      <th>Capomulin</th>\n",
       "      <td>b128</td>\n",
       "      <td>10</td>\n",
       "      <td>43.270852</td>\n",
       "      <td>0</td>\n",
       "    </tr>\n",
       "    <tr>\n",
       "      <th>Capomulin</th>\n",
       "      <td>b128</td>\n",
       "      <td>15</td>\n",
       "      <td>43.784893</td>\n",
       "      <td>0</td>\n",
       "    </tr>\n",
       "    <tr>\n",
       "      <th>Capomulin</th>\n",
       "      <td>b128</td>\n",
       "      <td>20</td>\n",
       "      <td>42.731552</td>\n",
       "      <td>0</td>\n",
       "    </tr>\n",
       "  </tbody>\n",
       "</table>\n",
       "</div>"
      ],
      "text/plain": [
       "          Mouse ID  Timepoint  Tumor Volume (mm3)  Metastatic Sites\n",
       "Drug                                                               \n",
       "Capomulin     b128          0           45.000000                 0\n",
       "Capomulin     b128          5           45.651331                 0\n",
       "Capomulin     b128         10           43.270852                 0\n",
       "Capomulin     b128         15           43.784893                 0\n",
       "Capomulin     b128         20           42.731552                 0"
      ]
     },
     "execution_count": 118,
     "metadata": {},
     "output_type": "execute_result"
    }
   ],
   "source": [
    "#Merge the two dataframes\n",
    "df=pd.merge(df1, df2, on=\"Mouse ID\")\n",
    "\n",
    "# Extract data for the four drugs (Capomulin, Infubinol, Ketapril, and Placebo) only\n",
    "df=df.set_index('Drug')\n",
    "df=df.loc[['Capomulin','Infubinol','Ketapril','Placebo'],:]\n",
    "df.head()"
   ]
  },
  {
   "cell_type": "markdown",
   "metadata": {},
   "source": [
    "## Tumor Response to Treatment"
   ]
  },
  {
   "cell_type": "code",
   "execution_count": 119,
   "metadata": {},
   "outputs": [
    {
     "data": {
      "text/html": [
       "<div>\n",
       "<style>\n",
       "    .dataframe thead tr:only-child th {\n",
       "        text-align: right;\n",
       "    }\n",
       "\n",
       "    .dataframe thead th {\n",
       "        text-align: left;\n",
       "    }\n",
       "\n",
       "    .dataframe tbody tr th {\n",
       "        vertical-align: top;\n",
       "    }\n",
       "</style>\n",
       "<table border=\"1\" class=\"dataframe\">\n",
       "  <thead>\n",
       "    <tr style=\"text-align: right;\">\n",
       "      <th></th>\n",
       "      <th></th>\n",
       "      <th>Metastatic Sites</th>\n",
       "      <th>Tumor Volume (mm3)</th>\n",
       "    </tr>\n",
       "    <tr>\n",
       "      <th>Drug</th>\n",
       "      <th>Timepoint</th>\n",
       "      <th></th>\n",
       "      <th></th>\n",
       "    </tr>\n",
       "  </thead>\n",
       "  <tbody>\n",
       "    <tr>\n",
       "      <th rowspan=\"5\" valign=\"top\">Capomulin</th>\n",
       "      <th>0</th>\n",
       "      <td>0.000000</td>\n",
       "      <td>45.000000</td>\n",
       "    </tr>\n",
       "    <tr>\n",
       "      <th>5</th>\n",
       "      <td>0.160000</td>\n",
       "      <td>44.266086</td>\n",
       "    </tr>\n",
       "    <tr>\n",
       "      <th>10</th>\n",
       "      <td>0.320000</td>\n",
       "      <td>43.084291</td>\n",
       "    </tr>\n",
       "    <tr>\n",
       "      <th>15</th>\n",
       "      <td>0.375000</td>\n",
       "      <td>42.064317</td>\n",
       "    </tr>\n",
       "    <tr>\n",
       "      <th>20</th>\n",
       "      <td>0.652174</td>\n",
       "      <td>40.716325</td>\n",
       "    </tr>\n",
       "  </tbody>\n",
       "</table>\n",
       "</div>"
      ],
      "text/plain": [
       "                     Metastatic Sites  Tumor Volume (mm3)\n",
       "Drug      Timepoint                                      \n",
       "Capomulin 0                  0.000000           45.000000\n",
       "          5                  0.160000           44.266086\n",
       "          10                 0.320000           43.084291\n",
       "          15                 0.375000           42.064317\n",
       "          20                 0.652174           40.716325"
      ]
     },
     "execution_count": 119,
     "metadata": {},
     "output_type": "execute_result"
    }
   ],
   "source": [
    "#Generate a pivot table to summarize the data for tumor volume and metastatic sites over time\n",
    "df_pivot=df.pivot_table(index=['Drug', 'Timepoint'],values=['Tumor Volume (mm3)','Metastatic Sites'],aggfunc=np.mean)\n",
    "df_pivot.head()"
   ]
  },
  {
   "cell_type": "code",
   "execution_count": 120,
   "metadata": {},
   "outputs": [
    {
     "data": {
      "text/html": [
       "<div>\n",
       "<style>\n",
       "    .dataframe thead tr:only-child th {\n",
       "        text-align: right;\n",
       "    }\n",
       "\n",
       "    .dataframe thead th {\n",
       "        text-align: left;\n",
       "    }\n",
       "\n",
       "    .dataframe tbody tr th {\n",
       "        vertical-align: top;\n",
       "    }\n",
       "</style>\n",
       "<table border=\"1\" class=\"dataframe\">\n",
       "  <thead>\n",
       "    <tr style=\"text-align: right;\">\n",
       "      <th></th>\n",
       "      <th></th>\n",
       "      <th>Metastatic Sites</th>\n",
       "      <th>Tumor Volume (mm3)</th>\n",
       "    </tr>\n",
       "    <tr>\n",
       "      <th>Drug</th>\n",
       "      <th>Timepoint</th>\n",
       "      <th></th>\n",
       "      <th></th>\n",
       "    </tr>\n",
       "  </thead>\n",
       "  <tbody>\n",
       "    <tr>\n",
       "      <th rowspan=\"5\" valign=\"top\">Capomulin</th>\n",
       "      <th>0</th>\n",
       "      <td>0.000000</td>\n",
       "      <td>0.000000</td>\n",
       "    </tr>\n",
       "    <tr>\n",
       "      <th>5</th>\n",
       "      <td>0.074833</td>\n",
       "      <td>0.448593</td>\n",
       "    </tr>\n",
       "    <tr>\n",
       "      <th>10</th>\n",
       "      <td>0.125433</td>\n",
       "      <td>0.702684</td>\n",
       "    </tr>\n",
       "    <tr>\n",
       "      <th>15</th>\n",
       "      <td>0.132048</td>\n",
       "      <td>0.838617</td>\n",
       "    </tr>\n",
       "    <tr>\n",
       "      <th>20</th>\n",
       "      <td>0.161621</td>\n",
       "      <td>0.909731</td>\n",
       "    </tr>\n",
       "  </tbody>\n",
       "</table>\n",
       "</div>"
      ],
      "text/plain": [
       "                     Metastatic Sites  Tumor Volume (mm3)\n",
       "Drug      Timepoint                                      \n",
       "Capomulin 0                  0.000000            0.000000\n",
       "          5                  0.074833            0.448593\n",
       "          10                 0.125433            0.702684\n",
       "          15                 0.132048            0.838617\n",
       "          20                 0.161621            0.909731"
      ]
     },
     "execution_count": 120,
     "metadata": {},
     "output_type": "execute_result"
    }
   ],
   "source": [
    "#Make a pivot table to generate the standard error data for tumor volume and metastatic sites for subsequent analyses\n",
    "std_error=df.pivot_table(index=['Drug', 'Timepoint'],values=['Tumor Volume (mm3)','Metastatic Sites'],aggfunc=sem)\n",
    "std_error.head()"
   ]
  },
  {
   "cell_type": "code",
   "execution_count": 121,
   "metadata": {},
   "outputs": [
    {
     "data": {
      "text/plain": [
       "Index(['Capomulin', 'Infubinol', 'Ketapril', 'Placebo'], dtype='object', name='Drug')"
      ]
     },
     "execution_count": 121,
     "metadata": {},
     "output_type": "execute_result"
    }
   ],
   "source": [
    "#Get unique drug names\n",
    "drug_index=df_pivot.index.get_level_values(0).unique()\n",
    "drug_index"
   ]
  },
  {
   "cell_type": "code",
   "execution_count": 131,
   "metadata": {},
   "outputs": [
    {
     "data": {
      "text/html": [
       "<div>\n",
       "<style>\n",
       "    .dataframe thead tr:only-child th {\n",
       "        text-align: right;\n",
       "    }\n",
       "\n",
       "    .dataframe thead th {\n",
       "        text-align: left;\n",
       "    }\n",
       "\n",
       "    .dataframe tbody tr th {\n",
       "        vertical-align: top;\n",
       "    }\n",
       "</style>\n",
       "<table border=\"1\" class=\"dataframe\">\n",
       "  <thead>\n",
       "    <tr style=\"text-align: right;\">\n",
       "      <th></th>\n",
       "      <th></th>\n",
       "      <th>Tumor Volume Change (%)</th>\n",
       "    </tr>\n",
       "    <tr>\n",
       "      <th>Drug</th>\n",
       "      <th>Timepoint</th>\n",
       "      <th></th>\n",
       "    </tr>\n",
       "  </thead>\n",
       "  <tbody>\n",
       "    <tr>\n",
       "      <th rowspan=\"5\" valign=\"top\">Capomulin</th>\n",
       "      <th>0</th>\n",
       "      <td>0.000000</td>\n",
       "    </tr>\n",
       "    <tr>\n",
       "      <th>5</th>\n",
       "      <td>-1.630919</td>\n",
       "    </tr>\n",
       "    <tr>\n",
       "      <th>10</th>\n",
       "      <td>-4.257132</td>\n",
       "    </tr>\n",
       "    <tr>\n",
       "      <th>15</th>\n",
       "      <td>-6.523739</td>\n",
       "    </tr>\n",
       "    <tr>\n",
       "      <th>20</th>\n",
       "      <td>-9.519277</td>\n",
       "    </tr>\n",
       "  </tbody>\n",
       "</table>\n",
       "</div>"
      ],
      "text/plain": [
       "                     Tumor Volume Change (%)\n",
       "Drug      Timepoint                         \n",
       "Capomulin 0                         0.000000\n",
       "          5                        -1.630919\n",
       "          10                       -4.257132\n",
       "          15                       -6.523739\n",
       "          20                       -9.519277"
      ]
     },
     "execution_count": 131,
     "metadata": {},
     "output_type": "execute_result"
    }
   ],
   "source": [
    "#Get % tumor volume change from baseline time point\n",
    "#Get the list of tumor volume change over time for each drug\n",
    "tumor_vol_change_list=[]\n",
    "\n",
    "#loop through all the drugs\n",
    "for drug in drug_index:\n",
    "    \n",
    "    #Tumor volume at timepoint 0\n",
    "    tumor_vol_t0=df_pivot.loc[drug].loc[0]['Tumor Volume (mm3)']\n",
    "    \n",
    "    #Number of timepoints\n",
    "    num_timepoints=len(df_pivot.loc[drug]['Tumor Volume (mm3)'].index)\n",
    "    \n",
    "    #Loop through each timepoint\n",
    "    for i in range(num_timepoints):\n",
    "        \n",
    "        #Each timepoint\n",
    "        tp=5*i\n",
    "        #Tumor volume at each timepoint\n",
    "        tumor_vol_tp=df_pivot.loc[drug].loc[tp]['Tumor Volume (mm3)']\n",
    "        #Tumor % volume change relative to timepoint 0\n",
    "        tumor_vol_change=(tumor_vol_tp-tumor_vol_t0)/tumor_vol_t0*100\n",
    "        #Generate a list of tumor volume change\n",
    "        tumor_vol_change_list.append(tumor_vol_change)\n",
    "\n",
    "#Convert the tumor change list to dataframe\n",
    "tumor_vol_change_df=pd.DataFrame({\"Tumor Volume Change (%)\":tumor_vol_change_list}, index=df_pivot.index)\n",
    "tumor_vol_change_df.head()"
   ]
  },
  {
   "cell_type": "code",
   "execution_count": 123,
   "metadata": {},
   "outputs": [
    {
     "data": {
      "text/html": [
       "<div>\n",
       "<style>\n",
       "    .dataframe thead tr:only-child th {\n",
       "        text-align: right;\n",
       "    }\n",
       "\n",
       "    .dataframe thead th {\n",
       "        text-align: left;\n",
       "    }\n",
       "\n",
       "    .dataframe tbody tr th {\n",
       "        vertical-align: top;\n",
       "    }\n",
       "</style>\n",
       "<table border=\"1\" class=\"dataframe\">\n",
       "  <thead>\n",
       "    <tr style=\"text-align: right;\">\n",
       "      <th>Drug</th>\n",
       "      <th>Capomulin</th>\n",
       "      <th>Infubinol</th>\n",
       "      <th>Ketapril</th>\n",
       "      <th>Placebo</th>\n",
       "    </tr>\n",
       "    <tr>\n",
       "      <th>Timepoint</th>\n",
       "      <th></th>\n",
       "      <th></th>\n",
       "      <th></th>\n",
       "      <th></th>\n",
       "    </tr>\n",
       "  </thead>\n",
       "  <tbody>\n",
       "    <tr>\n",
       "      <th>0</th>\n",
       "      <td>45.000000</td>\n",
       "      <td>45.000000</td>\n",
       "      <td>45.000000</td>\n",
       "      <td>45.000000</td>\n",
       "    </tr>\n",
       "    <tr>\n",
       "      <th>5</th>\n",
       "      <td>44.266086</td>\n",
       "      <td>47.062001</td>\n",
       "      <td>47.389175</td>\n",
       "      <td>47.125589</td>\n",
       "    </tr>\n",
       "    <tr>\n",
       "      <th>10</th>\n",
       "      <td>43.084291</td>\n",
       "      <td>49.403909</td>\n",
       "      <td>49.582269</td>\n",
       "      <td>49.423329</td>\n",
       "    </tr>\n",
       "    <tr>\n",
       "      <th>15</th>\n",
       "      <td>42.064317</td>\n",
       "      <td>51.296397</td>\n",
       "      <td>52.399974</td>\n",
       "      <td>51.359742</td>\n",
       "    </tr>\n",
       "    <tr>\n",
       "      <th>20</th>\n",
       "      <td>40.716325</td>\n",
       "      <td>53.197691</td>\n",
       "      <td>54.920935</td>\n",
       "      <td>54.364417</td>\n",
       "    </tr>\n",
       "  </tbody>\n",
       "</table>\n",
       "</div>"
      ],
      "text/plain": [
       "Drug       Capomulin  Infubinol   Ketapril    Placebo\n",
       "Timepoint                                            \n",
       "0          45.000000  45.000000  45.000000  45.000000\n",
       "5          44.266086  47.062001  47.389175  47.125589\n",
       "10         43.084291  49.403909  49.582269  49.423329\n",
       "15         42.064317  51.296397  52.399974  51.359742\n",
       "20         40.716325  53.197691  54.920935  54.364417"
      ]
     },
     "execution_count": 123,
     "metadata": {},
     "output_type": "execute_result"
    }
   ],
   "source": [
    "#Reshape the tumor volume change dataframe for easy graph plotting\n",
    "#Tumor volume data for the first drug (d1)\n",
    "tumor_vol_d1=df_pivot.loc['Capomulin']['Tumor Volume (mm3)']\n",
    "\n",
    "#Loop through the remaining drugs\n",
    "for drug in drug_index[1:]:\n",
    "    #Tumor volume data for drug x (dx)\n",
    "    tumor_vol_dx=df_pivot.loc[drug]['Tumor Volume (mm3)']\n",
    "    #Combine the dataframes\n",
    "    tumor_vol_dall=pd.concat([tumor_vol_d1,tumor_vol_dx], axis=1) \n",
    "    #Assign the combined dataframe to  tumor_vol_d1\n",
    "    tumor_vol_d1=tumor_vol_dall\n",
    "\n",
    "#Assign the column names\n",
    "tumor_vol_dall.columns=drug_index\n",
    "\n",
    "tumor_vol_dall.head()"
   ]
  },
  {
   "cell_type": "code",
   "execution_count": 138,
   "metadata": {},
   "outputs": [
    {
     "data": {
      "image/png": "[encoded data removed]",
      "text/plain": [
       "<matplotlib.figure.Figure at 0x46b883668>"
      ]
     },
     "metadata": {},
     "output_type": "display_data"
    }
   ],
   "source": [
    "#Plot a line plot of tumor volume against the treatment time (days)\n",
    "#Set x axis values\n",
    "x_axis=tumor_vol_dall.index\n",
    "\n",
    "#set line color and marker panels\n",
    "color_panel=['g','r','b','y','r','g','b','y','r','g']\n",
    "filled_markers = ['o', 's', 'h', 'X', '>', '^', 'v', 'p', '*', '8', 'H', 'D', 'd', 'P', '<']\n",
    "\n",
    "# Set figure size to adjust for space\n",
    "plt.figure(figsize=(6,6))\n",
    "\n",
    "#Plot the graph with error bars\n",
    "#Loop through the drugs\n",
    "for i,drug in enumerate (drug_index):\n",
    "    \n",
    "    #Extract the tumor volume data as y_axis\n",
    "    y_axis=tumor_vol_dall[drug]\n",
    "    \n",
    "    #plot the graph with error bars\n",
    "    (_,caps,_)=plt.errorbar(x_axis, y_axis, yerr=std_error.loc[drug]['Tumor Volume (mm3)'], \n",
    "                 c=color_panel[i], marker=filled_markers[i], markersize=5, capsize=5, dashes=[10,10], linewidth=0.8)\n",
    "    for cap in caps:\n",
    "        cap.set_markeredgewidth(1)\n",
    "\n",
    "# Set x and y limits\n",
    "plt.xlim(0, max(x_axis)+5)\n",
    "plt.ylim(20, 80)\n",
    "\n",
    "# Set a Title and labels\n",
    "plt.title(\"Tumor Response to Treatment\", fontsize=12)\n",
    "plt.xlabel(\"Time (Days)\", fontsize=12)\n",
    "plt.ylabel(\"Tumor Volume (mm3)\", fontsize=12)\n",
    "plt.legend(drug_index, loc='best', fontsize=12)\n",
    "plt.grid(True)\n",
    "\n",
    "plt.tight_layout()\n",
    "plt.show()\n",
    "\n"
   ]
  },
  {
   "cell_type": "markdown",
   "metadata": {},
   "source": [
    "## Metastatic Response to Treatment"
   ]
  },
  {
   "cell_type": "code",
   "execution_count": 137,
   "metadata": {},
   "outputs": [
    {
     "data": {
      "image/png": "[encoded data removed]",
      "text/plain": [
       "<matplotlib.figure.Figure at 0x46bc56748>"
      ]
     },
     "metadata": {},
     "output_type": "display_data"
    }
   ],
   "source": [
    "#Plot a line plot of metastastic sites against the treatment time (days)\n",
    "#Set the x axis values\n",
    "x_axis=tumor_vol_dall.index\n",
    "\n",
    "#Set line color and marker panels\n",
    "color_panel=['g','r','b','y','r','g','b','y','r','g']\n",
    "filled_markers = ['o', 's', 'h', 'X', '>', '8', 's', 'p', '*', 'h', 'H', 'D', 'd', 'P', 'X']\n",
    "\n",
    "# Set figure size to adjust for space\n",
    "plt.figure(figsize=(6,6))\n",
    "\n",
    "#Plot a graph with error bars\n",
    "for i,drug in enumerate (drug_index):\n",
    "    (_,caps,_)=plt.errorbar(x_axis, df_pivot.loc[drug,'Metastatic Sites'], yerr=std_error.loc[drug]['Metastatic Sites'], \n",
    "                 color=color_panel[i], fmt=filled_markers[i], capsize=5, markersize=5, dashes=[10,10], linewidth=0.8)\n",
    "    for cap in caps:\n",
    "        cap.set_markeredgewidth(1)\n",
    "        \n",
    "# Set x and y limits\n",
    "plt.xlim(0, max(x_axis)+5)\n",
    "#plt.ylim(20, 80)\n",
    "\n",
    "# Set a Title and labels\n",
    "plt.title(\"Metastatic Spread During Treatment\",fontsize=12)\n",
    "plt.xlabel(\"Treatment Duration (Days)\",fontsize=12)\n",
    "plt.ylabel(\"Met. Sites\",fontsize=12)\n",
    "plt.legend(drug_index, loc='best', fontsize=12)\n",
    "\n",
    "plt.grid(True)\n",
    "plt.tight_layout()\n",
    "plt.show()"
   ]
  },
  {
   "cell_type": "markdown",
   "metadata": {},
   "source": [
    "## Survival Rates"
   ]
  },
  {
   "cell_type": "code",
   "execution_count": 126,
   "metadata": {},
   "outputs": [
    {
     "data": {
      "text/plain": [
       "Drug       Timepoint\n",
       "Capomulin  0            25\n",
       "           5            25\n",
       "           10           25\n",
       "           15           24\n",
       "           20           23\n",
       "Name: Tumor Volume (mm3), dtype: int64"
      ]
     },
     "execution_count": 126,
     "metadata": {},
     "output_type": "execute_result"
    }
   ],
   "source": [
    "#Count the mouse survivals \n",
    "survival_count=df.groupby([\"Drug\",\"Timepoint\"])['Tumor Volume (mm3)'].count()\n",
    "survival_count.head()"
   ]
  },
  {
   "cell_type": "code",
   "execution_count": 139,
   "metadata": {},
   "outputs": [
    {
     "data": {
      "text/html": [
       "<div>\n",
       "<style>\n",
       "    .dataframe thead tr:only-child th {\n",
       "        text-align: right;\n",
       "    }\n",
       "\n",
       "    .dataframe thead th {\n",
       "        text-align: left;\n",
       "    }\n",
       "\n",
       "    .dataframe tbody tr th {\n",
       "        vertical-align: top;\n",
       "    }\n",
       "</style>\n",
       "<table border=\"1\" class=\"dataframe\">\n",
       "  <thead>\n",
       "    <tr style=\"text-align: right;\">\n",
       "      <th>Drug</th>\n",
       "      <th>Capomulin</th>\n",
       "      <th>Infubinol</th>\n",
       "      <th>Ketapril</th>\n",
       "      <th>Placebo</th>\n",
       "    </tr>\n",
       "    <tr>\n",
       "      <th>Timepoint</th>\n",
       "      <th></th>\n",
       "      <th></th>\n",
       "      <th></th>\n",
       "      <th></th>\n",
       "    </tr>\n",
       "  </thead>\n",
       "  <tbody>\n",
       "    <tr>\n",
       "      <th>0</th>\n",
       "      <td>25</td>\n",
       "      <td>25</td>\n",
       "      <td>25</td>\n",
       "      <td>25</td>\n",
       "    </tr>\n",
       "    <tr>\n",
       "      <th>5</th>\n",
       "      <td>25</td>\n",
       "      <td>25</td>\n",
       "      <td>23</td>\n",
       "      <td>24</td>\n",
       "    </tr>\n",
       "    <tr>\n",
       "      <th>10</th>\n",
       "      <td>25</td>\n",
       "      <td>21</td>\n",
       "      <td>22</td>\n",
       "      <td>24</td>\n",
       "    </tr>\n",
       "    <tr>\n",
       "      <th>15</th>\n",
       "      <td>24</td>\n",
       "      <td>21</td>\n",
       "      <td>19</td>\n",
       "      <td>20</td>\n",
       "    </tr>\n",
       "    <tr>\n",
       "      <th>20</th>\n",
       "      <td>23</td>\n",
       "      <td>20</td>\n",
       "      <td>19</td>\n",
       "      <td>19</td>\n",
       "    </tr>\n",
       "  </tbody>\n",
       "</table>\n",
       "</div>"
      ],
      "text/plain": [
       "Drug       Capomulin  Infubinol  Ketapril  Placebo\n",
       "Timepoint                                         \n",
       "0                 25         25        25       25\n",
       "5                 25         25        23       24\n",
       "10                25         21        22       24\n",
       "15                24         21        19       20\n",
       "20                23         20        19       19"
      ]
     },
     "execution_count": 139,
     "metadata": {},
     "output_type": "execute_result"
    }
   ],
   "source": [
    "#The mouse survival count for drug Capomulin\n",
    "survival_d1=survival_count['Capomulin']\n",
    "\n",
    "#Generate a summary frame for the survival count by concatenating the individual drug's data\n",
    "#Loop through the remaining drugs\n",
    "for drug in drug_index[1:]:\n",
    "    survival_dx=survival_count[drug]\n",
    "    survival_summary=pd.concat([survival_d1,survival_dx], axis=1) \n",
    "    survival_d1=survival_summary\n",
    "\n",
    "#Assign the drug names to the column headers\n",
    "survival_summary.columns=drug_index\n",
    "\n",
    "survival_summary.head()"
   ]
  },
  {
   "cell_type": "code",
   "execution_count": 140,
   "metadata": {},
   "outputs": [
    {
     "data": {
      "image/png": "[encoded data removed]",
      "text/plain": [
       "<matplotlib.figure.Figure at 0x46aa081d0>"
      ]
     },
     "metadata": {},
     "output_type": "display_data"
    }
   ],
   "source": [
    "#Plot the survival rate graph\n",
    "#Set the figure size\n",
    "plt.figure(figsize=(6,6))\n",
    "\n",
    "#Set x axis values\n",
    "x_axis=survival_summary.index\n",
    "\n",
    "#Set line color and marker panels\n",
    "color_panel=['g','r','b','y','r','g','b','y','r','g']\n",
    "filled_markers = ['o', 's', 'h', 'X', '>', '8', 's', 'p', '*', 'h', 'H', 'D', 'd', 'P', 'X']\n",
    "\n",
    "#Loop through the drugs\n",
    "for i,drug in enumerate (drug_index):\n",
    "    \n",
    "    #Set the mouse counts at the beginning (t0)\n",
    "    num_t0=survival_summary[drug][0]\n",
    "    \n",
    "    #Plot the survival counts against the time points\n",
    "    plt.plot(x_axis,survival_summary[drug]/num_t0*100, marker=filled_markers[i], markersize=5, c=color_panel[i],\n",
    "             dashes=[10,10], linewidth=0.8)\n",
    "\n",
    "# Set x and y limits\n",
    "plt.xlim(0, max(x_axis)+5)\n",
    "#plt.ylim(20, 80)\n",
    "\n",
    "# Set a Title and labels\n",
    "plt.title(\"Survival During Treatment\",fontsize=12)\n",
    "plt.xlabel(\"Time (Days)\",fontsize=12)\n",
    "plt.ylabel(\"Survival Rate (%)\",fontsize=12)\n",
    "plt.legend(drug_index, loc='best',fontsize=12)\n",
    "\n",
    "plt.grid(True)\n",
    "plt.tight_layout()\n",
    "plt.show()"
   ]
  },
  {
   "cell_type": "markdown",
   "metadata": {},
   "source": [
    "## Summary Bar Graph"
   ]
  },
  {
   "cell_type": "code",
   "execution_count": 129,
   "metadata": {},
   "outputs": [
    {
     "data": {
      "text/plain": [
       "Drug\n",
       "Capomulin   -19.475303\n",
       "Infubinol    46.123472\n",
       "Ketapril     57.028795\n",
       "Placebo      51.297960\n",
       "dtype: float64"
      ]
     },
     "execution_count": 129,
     "metadata": {},
     "output_type": "execute_result"
    }
   ],
   "source": [
    "#Calculate the % tumor volume change of 45-day treatment from the baseline (day 0)\n",
    "summary=(tumor_vol_dall.loc[45]/tumor_vol_dall.loc[0]-1)*100\n",
    "summary.head()"
   ]
  },
  {
   "cell_type": "code",
   "execution_count": 147,
   "metadata": {},
   "outputs": [
    {
     "data": {
      "image/png": "[encoded data removed]",
      "text/plain": [
       "<matplotlib.figure.Figure at 0x465511be0>"
      ]
     },
     "metadata": {},
     "output_type": "display_data"
    }
   ],
   "source": [
    "#Plot the bar graph for the % tumor volume change\n",
    "#Set X and y axes\n",
    "x_axis = np.arange(len(summary.index))\n",
    "y_axis=summary.values\n",
    "\n",
    "#Set tick locations\n",
    "tick_locations = [value+0.4 for value in x_axis]\n",
    "# Create a list indicating where to write x labels and set figure size to adjust for space\n",
    "#plt.figure(figsize=(20,3))\n",
    "\n",
    "#Set space for the figure \n",
    "fig, ax = plt.subplots()\n",
    "\n",
    "#Plot the horizontal line as the x axis\n",
    "ax.hlines(0,0,len(x_axis), alpha=0.5)\n",
    "\n",
    "#Plot the bar graph\n",
    "#Loop through the y axis values\n",
    "for i,y in enumerate (y_axis):\n",
    "    \n",
    "    #Set up conditionals to set different colors for the bars with positive/negative values\n",
    "    if y<0:\n",
    "        rects=ax.bar(x_axis[i], y, color='g', alpha=1, align=\"edge\")\n",
    "    else:\n",
    "        rects=ax.bar(x_axis[i], y, color='r', alpha=1, align=\"edge\")\n",
    "    \n",
    "    #Set up a loop to label the individual bars with their values\n",
    "    for r in rects: \n",
    "        height = r.get_height()\n",
    "        if height >0:\n",
    "            ax.text(r.get_x() + r.get_width()/2., 2,'%d' % int(height),ha='center', va='bottom')\n",
    "        else:\n",
    "            ax.text(r.get_x() + r.get_width()/2., -4,'%d' % int(height),ha='center', va='bottom')\n",
    "\n",
    "#Set xticks\n",
    "plt.xticks(tick_locations, summary.index, rotation=\"horizontal\", fontsize=12)\n",
    "\n",
    "# Set x and y limits\n",
    "plt.xlim(0, len(x_axis))\n",
    "plt.ylim(-30, max(y_axis)+10)\n",
    "\n",
    "# Set a Title and labels\n",
    "plt.title(\"Tumor Change Over 45 Day Treatment\")\n",
    "plt.xlabel(\"Drug\")\n",
    "plt.ylabel(\"% Tumor Volume Change\")\n",
    "plt.grid(True)\n",
    "\n",
    "plt.tight_layout()\n",
    "plt.show()"
   ]
  },
  {
   "cell_type": "code",
   "execution_count": null,
   "metadata": {
    "collapsed": true
   },
   "outputs": [],
   "source": []
  }
 ],
 "metadata": {
  "kernelspec": {
   "display_name": "Python [conda env:PythonData]",
   "language": "python",
   "name": "conda-env-PythonData-py"
  },
  "language_info": {
   "codemirror_mode": {
    "name": "ipython",
    "version": 3
   },
   "file_extension": ".py",
   "mimetype": "text/x-python",
   "name": "python",
   "nbconvert_exporter": "python",
   "pygments_lexer": "ipython3",
   "version": "3.6.1"
  }
 },
 "nbformat": 4,
 "nbformat_minor": 2
}
